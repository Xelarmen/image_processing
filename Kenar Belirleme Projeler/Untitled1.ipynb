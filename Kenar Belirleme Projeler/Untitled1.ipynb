{
 "cells": [
  {
   "cell_type": "code",
   "execution_count": 5,
   "metadata": {},
   "outputs": [
    {
     "ename": "AttributeError",
     "evalue": "module 'cv2.cv2' has no attribute 'destoryAllWindows'",
     "output_type": "error",
     "traceback": [
      "\u001b[1;31m---------------------------------------------------------------------------\u001b[0m",
      "\u001b[1;31mAttributeError\u001b[0m                            Traceback (most recent call last)",
      "\u001b[1;32m<ipython-input-5-d73e786e0644>\u001b[0m in \u001b[0;36m<module>\u001b[1;34m\u001b[0m\n\u001b[0;32m     23\u001b[0m \u001b[0mcv2\u001b[0m\u001b[1;33m.\u001b[0m\u001b[0mimshow\u001b[0m\u001b[1;33m(\u001b[0m\u001b[1;34m\"prewitt\"\u001b[0m\u001b[1;33m,\u001b[0m \u001b[0mprewittx\u001b[0m\u001b[1;33m+\u001b[0m\u001b[0mprewitty\u001b[0m\u001b[1;33m)\u001b[0m\u001b[1;33m\u001b[0m\u001b[1;33m\u001b[0m\u001b[0m\n\u001b[0;32m     24\u001b[0m \u001b[0mcv2\u001b[0m\u001b[1;33m.\u001b[0m\u001b[0mwaitKey\u001b[0m \u001b[1;33m(\u001b[0m\u001b[1;36m0\u001b[0m\u001b[1;33m)\u001b[0m\u001b[1;33m\u001b[0m\u001b[1;33m\u001b[0m\u001b[0m\n\u001b[1;32m---> 25\u001b[1;33m \u001b[0mcv2\u001b[0m\u001b[1;33m.\u001b[0m\u001b[0mdestoryAllWindows\u001b[0m \u001b[1;33m(\u001b[0m\u001b[1;33m)\u001b[0m\u001b[1;33m\u001b[0m\u001b[1;33m\u001b[0m\u001b[0m\n\u001b[0m",
      "\u001b[1;31mAttributeError\u001b[0m: module 'cv2.cv2' has no attribute 'destoryAllWindows'"
     ]
    }
   ],
   "source": [
    "import cv2\n",
    "import numpy as np\n",
    "\n",
    "img=cv2.imread('beyaz.jpg');\n",
    "\n",
    "gray=cv2.cvtColor(img,cv2.COLOR_BGR2GRAY)\n",
    "gaus=cv2.GaussianBlur(gray,(3,3),0)\n",
    "kernelx=np.array([[1,1,1],[0,0,0],[-1,-1,-1]])\n",
    "kernely=np.array([[-1,0,1],[-1,0,1],[-1,0,1]])\n",
    "prewittx=cv2.filter2D(gaus,-1,kernelx)\n",
    "prewitty=cv2.filter2D(gaus,-1,kernely)\n",
    "\n",
    "#sobel\n",
    "img_sobelx = cv2.Sobel(gaus,cv2.CV_8U,1,0,ksize=3)\n",
    "img_sobely = cv2.Sobel(gaus,cv2.CV_8U,0,1,ksize=3)\n",
    "img_sobel = img_sobelx + img_sobely\n",
    "\n",
    "\n",
    "#cv2.imshow(\"Prewitt X\",prewittx)\n",
    "#cv2.imshow(\"Prewitt Y\",prewitty)\n",
    "cv2.imshow(\"sobel\", img_sobel)\n",
    "\n",
    "cv2.imshow(\"prewitt\", prewittx+prewitty)\n",
    "cv2.waitKey (0)\n",
    "cv2.destoryAllWindows ()"
   ]
  },
  {
   "cell_type": "code",
   "execution_count": null,
   "metadata": {},
   "outputs": [],
   "source": []
  },
  {
   "cell_type": "code",
   "execution_count": null,
   "metadata": {},
   "outputs": [],
   "source": []
  }
 ],
 "metadata": {
  "kernelspec": {
   "display_name": "Python 3",
   "language": "python",
   "name": "python3"
  },
  "language_info": {
   "codemirror_mode": {
    "name": "ipython",
    "version": 3
   },
   "file_extension": ".py",
   "mimetype": "text/x-python",
   "name": "python",
   "nbconvert_exporter": "python",
   "pygments_lexer": "ipython3",
   "version": "3.8.1"
  }
 },
 "nbformat": 4,
 "nbformat_minor": 4
}
