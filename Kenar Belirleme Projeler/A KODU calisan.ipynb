{
 "cells": [
  {
   "cell_type": "code",
   "execution_count": 4,
   "metadata": {},
   "outputs": [],
   "source": [
    "import cv2\n",
    "import numpy as np\n",
    "\n",
    "#resim oku \n",
    "image = cv2.imread('beyaz.jpg')\n",
    "\n",
    "#b&w gauss\n",
    "gray=cv2.cvtColor(image,cv2.COLOR_BGR2GRAY)\n",
    "gaus=cv2.GaussianBlur(gray,(3,3),0)\n",
    "\n",
    "#Previtt(İlk iki satir gerekli matrislerin tanimlanmasi)\n",
    "kernel_Previtt_x=np.array([[-1,0,1],[-1,0,1],[-1,0,1]])\n",
    "kernel_Previtt_y=np.array([[1,1,1],[0,0,0],[-1,-1,-1]])\n",
    "prewittx=cv2.filter2D(gaus,-1,kernel_Previtt_x)\n",
    "prewitty=cv2.filter2D(gaus,-1,kernel_Previtt_y)\n",
    "o_prewitty = prewittx + prewitty\n",
    "\n",
    "#Roberts(İlk iki satir gerekli matrislerin tanimlanmasi)\n",
    "kernel_Roberts_x = np.array([[1, 0],[0, -1]])\n",
    "kernel_Roberts_y = np.array([[0, -1],[1, 0]])\n",
    "robertsx = cv2.filter2D(gaus, -1, kernel_Roberts_x)\n",
    "robertsy = cv2.filter2D(gaus, -1, kernel_Roberts_y)\n",
    "o_roberts = robertsx + prewitty\n",
    "\n",
    "#Sobel(İlk iki satir gerekli matrislerin tanimlanmasi)\n",
    "kernel_Sobel_x = np.array([[-1, 0, -1],[-2, 0, 2],[-1, 0, 1]])\n",
    "kernel_Sobel_y = np.array([[1, 2, 1],[0, 0, 0],[-1, -2, -1]])\n",
    "sobelx = cv2.filter2D(gaus, -1, kernel_Sobel_x)\n",
    "sobely = cv2.filter2D(gaus, -1, kernel_Sobel_y)\n",
    "o_sobel = sobelx + sobely\n",
    "\n",
    "\n",
    "cv2.imshow('Roberts', o_roberts)\n",
    "cv2.imshow('Sobel', o_sobel)\n",
    "cv2.imshow(\"Prewitt\", o_prewitty)\n",
    "\n",
    "cv2.waitKey(0)\n",
    "cv2.destroyAllWindows()"
   ]
  },
  {
   "cell_type": "code",
   "execution_count": null,
   "metadata": {},
   "outputs": [],
   "source": []
  },
  {
   "cell_type": "code",
   "execution_count": null,
   "metadata": {},
   "outputs": [],
   "source": []
  }
 ],
 "metadata": {
  "kernelspec": {
   "display_name": "Python 3",
   "language": "python",
   "name": "python3"
  },
  "language_info": {
   "codemirror_mode": {
    "name": "ipython",
    "version": 3
   },
   "file_extension": ".py",
   "mimetype": "text/x-python",
   "name": "python",
   "nbconvert_exporter": "python",
   "pygments_lexer": "ipython3",
   "version": "3.8.1"
  }
 },
 "nbformat": 4,
 "nbformat_minor": 4
}
